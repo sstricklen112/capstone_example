{
 "cells": [
  {
   "cell_type": "markdown",
   "id": "68260184",
   "metadata": {},
   "source": [
    "\n",
    "# GitHub Copilot in VS Code — Chat, Edit, and Agent Modes\n",
    "\n",
    "This notebook is a companion to your 20‑minute Copilot talk.  \n",
    "It explains the three primary ways you'll interact with Copilot in **VS Code**:\n",
    "\n",
    "1. **Chat mode** – Ask questions, get explanations, and generate code in a side/chat panel.  \n",
    "2. **Edit mode (Inline Chat / Copilot Edits)** – Tell Copilot *how* to modify the code you’ve selected or the current file.  \n",
    "3. **Agent mode** – Use **@‑mentions** to invoke Copilot **agents** (e.g., `@workspace`, `@vscode`, `@terminal`) and operate on broader context.\n",
    "\n",
    "It also covers **useful shortcuts**, the **Add Context…** button, **@‑mentions**, and **slash commands**.\n"
   ]
  },
  {
   "cell_type": "markdown",
   "id": "b0bb7186",
   "metadata": {},
   "source": [
    "\n",
    "## 1) Chat Mode (Side Panel)\n",
    "\n",
    "**What it is:** A chat panel in VS Code where you can ask questions in plain English (or code) and get answers, code snippets, and explanations.\n",
    "\n",
    "**How to open it:**\n",
    "- Click the **Copilot** (chat) icon in the Activity Bar (left).  \n",
    "- Or open the **Command Palette** (`Ctrl+Shift+P`) and run: **“Copilot: Focus on Chat”**.  \n",
    "- If you have a keybinding, use it (e.g., some setups use `Ctrl+Shift+I`). If it doesn’t work, go to **File → Preferences → Keyboard Shortcuts** and search **“Copilot Chat”** to see or set yours.\n",
    "\n",
    "**What to ask in Chat:**\n",
    "- “Explain this function” (paste the function).  \n",
    "- “Write a pandas example that groups by month and sums revenue.”  \n",
    "- “Turn this plain English into working Python code with comments.”\n",
    "\n",
    "**Demo script (in class):**\n",
    "1. Open Chat.  \n",
    "2. Ask: *“Create a Python function `clean_names(s: str)` that trims spaces, lowercases, and replaces spaces with underscores. Include docstring and tests.”*  \n",
    "3. Paste the result into a file, run it, show quick edits with **Edit mode** (next section).\n"
   ]
  },
  {
   "cell_type": "markdown",
   "id": "1974d61e",
   "metadata": {},
   "source": [
    "\n",
    "### The **Add Context…** button\n",
    "\n",
    "In Copilot Chat you’ll see **Add Context…**. Use it to attach **specific context** so Copilot gives more accurate answers:\n",
    "\n",
    "- **Files / Folders** — point Copilot at the exact files (e.g., `utils.py`, `notebooks/01_intro.ipynb`).  \n",
    "- **Selection** — include the code you’ve highlighted.  \n",
    "- **Problems / Terminal / Git** — include open issues, recent terminal output, or recent commits.  \n",
    "- **Open Editors / Active Notebook** — share what you’re currently working on.\n",
    "\n",
    "**Example prompts using Add Context…**\n",
    "- *“Given the code I selected, refactor to remove duplication (DRY) and add type hints.”*  \n",
    "- *“Using the errors in the **Problems** panel, propose fixes and show the diffs.”*  \n",
    "- *“Based on `data_cleaning.py` and `requirements.txt` (added as context), write a quickstart section for the README.”*\n"
   ]
  },
  {
   "cell_type": "markdown",
   "id": "0161bc17",
   "metadata": {},
   "source": [
    "\n",
    "## 2) Edit Mode (Inline Chat / Copilot Edits)\n",
    "\n",
    "**What it is:** A focused way to ask Copilot to **edit your current selection or file**. You write an instruction, Copilot proposes a change, you **review a diff**, then **Apply** or **Discard**.\n",
    "\n",
    "**How to start Edit mode:**\n",
    "- Select code → press **Inline Chat** (commonly `Ctrl+I` on Windows; if not, search **“Inline Chat: Start”** in Keyboard Shortcuts).\n",
    "- Or right‑click selected code → **Copilot** → **Inline Edit** / **Explain / Fix** (label may vary slightly).\n",
    "\n",
    "**Good prompts for Edit mode:**\n",
    "- “**Convert this function to use list comprehensions; add a doctest.**”  \n",
    "- “**Vectorize this pandas loop; keep identical results; add a timeit note.**”  \n",
    "- “**Add logging and error handling (ValueError for bad inputs).**”\n",
    "\n",
    "**Demo script (in class):**\n",
    "1. Paste the `clean_names` function (from Chat mode) into a file.  \n",
    "2. Select it, start **Inline Chat**.  \n",
    "3. Prompt: *“Add robust input validation and examples; keep PEP‑8 naming.”*  \n",
    "4. Review the diff → **Apply**.  \n",
    "5. Run tests (manual or via the Test Explorer, if configured).\n"
   ]
  },
  {
   "cell_type": "markdown",
   "id": "16c63636",
   "metadata": {},
   "source": [
    "\n",
    "## 3) Agent Mode — Using **@‑mentions**\n",
    "\n",
    "**What it is:** In Chat (or sometimes Inline Chat), you can **@‑mention agents** to scope Copilot’s attention or take actions:\n",
    "\n",
    "- `@workspace` — understands the project’s files and structure; good for repo‑wide questions.  \n",
    "- `@vscode` — interacts with the editor/IDE features (problems, settings, tasks).  \n",
    "- `@terminal` — references terminal output.  \n",
    "- `@notebook` — focuses on the active Jupyter notebook.  \n",
    "- `@github` — interacts with GitHub context (PRs, issues) if connected.\n",
    "\n",
    "**Examples:**\n",
    "- `@workspace` *“Find all uses of the function `clean_names` and propose a unified signature; show a migration diff.”*  \n",
    "- `@vscode` *“Create a VS Code task to run `pytest -q` and add it to tasks.json.”*  \n",
    "- `@terminal` *“Given the last `pip install` error, suggest the correct command to resolve version conflicts.”*  \n",
    "- `@notebook` *“Summarize the current notebook and create a new cell with a function that wraps the top 3 cells.”*\n",
    "\n",
    "> Tip: You can combine **Add Context…** + **@‑mentions** for precise, powerful prompts.\n"
   ]
  },
  {
   "cell_type": "markdown",
   "id": "264da051",
   "metadata": {},
   "source": [
    "\n",
    "## Slash Commands in Copilot Chat\n",
    "\n",
    "Slash commands offer **quick actions**. Depending on your Copilot version, common commands include:\n",
    "\n",
    "- **`/explain`** – Explain the selected code or error.  \n",
    "- **`/fix`** – Suggest a fix for the problem in the current file/selection.  \n",
    "- **`/tests`** – Generate tests for selected code.  \n",
    "- **`/doc`** – Add or improve documentation/docstrings.  \n",
    "- **`/optimize`** – Propose performance/memory improvements.  \n",
    "- **`/smell`** – Identify code smells and suggest refactors.  \n",
    "\n",
    "**Demo script:**  \n",
    "- Select a short function → `/tests` to generate unit tests.  \n",
    "- Trigger `/explain` on a tricky list/dict comprehension.  \n",
    "- Use `/fix` on a known error (e.g., an undefined variable) and apply the suggested patch.\n"
   ]
  },
  {
   "cell_type": "markdown",
   "id": "f90d4ad5",
   "metadata": {},
   "source": [
    "\n",
    "## Useful Shortcuts (Verify or Customize in VS Code)\n",
    "\n",
    "> Shortcuts can vary by platform and version. Use **File → Preferences → Keyboard Shortcuts** and search for “Copilot” to confirm. These are common defaults:\n",
    "\n",
    "- **Accept inline suggestion:** `Tab` (or `Enter`)  \n",
    "- **Dismiss inline suggestion:** `Esc`  \n",
    "- **Next/Previous suggestion:** `Alt+]` / `Alt+[`  \n",
    "- **Inline Chat (start edit):** often `Ctrl+I` (Windows)  \n",
    "- **Open Copilot Chat view:** map a keybinding or use `Ctrl+Shift+P` → “Copilot: Focus on Chat”  \n",
    "- **Command Palette:** `Ctrl+Shift+P` (great for any Copilot action)\n"
   ]
  },
  {
   "cell_type": "markdown",
   "id": "dde55983",
   "metadata": {},
   "source": [
    "\n",
    "## Hands‑On Examples\n",
    "\n",
    "Below are tiny code snippets you can use to prompt Copilot.  \n",
    "Students should **type comments first**, then watch Copilot’s ghost text suggestions.\n"
   ]
  },
  {
   "cell_type": "code",
   "execution_count": null,
   "id": "25fb0c49",
   "metadata": {},
   "outputs": [],
   "source": [
    "\n",
    "# Example 1: Start with a comment and let Copilot write the function\n",
    "# Task: function to normalize a string: trim, lowercase, spaces->underscores\n",
    "\n",
    "def normalize_name(s: str):\n",
    "    pass  # Try Inline Chat: \"Implement this robustly; add type hints and doctest\"\n"
   ]
  },
  {
   "cell_type": "code",
   "execution_count": null,
   "id": "e8296b46",
   "metadata": {},
   "outputs": [],
   "source": [
    "\n",
    "# Example 2: Ask for a vectorized pandas solution\n",
    "import pandas as pd\n",
    "\n",
    "df = pd.DataFrame({\n",
    "    \"name\": [\" Alice \", \"Bob\", \"  Carol  \"],\n",
    "    \"qty\": [1, 2, 3],\n",
    "    \"price\": [10.0, 12.5, 9.99]\n",
    "})\n",
    "\n",
    "# Demo prompt (Inline Chat): \"Add a column 'amount' = qty * price; avoid loops; show a one-liner.\"\n",
    "# Then: \"Write pytest-style tests for the new logic.\"\n",
    "df\n"
   ]
  },
  {
   "cell_type": "code",
   "execution_count": null,
   "id": "f0c5e9ec",
   "metadata": {},
   "outputs": [],
   "source": [
    "\n",
    "# Example 3: Use comments to guide a small utility\n",
    "# \"Write a function that formats currency for USD with 2 decimals, handling None and bad inputs.\"\n",
    "\n",
    "def fmt_usd(x):\n",
    "    pass\n",
    "\n",
    "# Then: \"/tests\" in Chat to generate unit tests, or ask @workspace to find all currency formatting occurrences.\n"
   ]
  },
  {
   "cell_type": "markdown",
   "id": "c2e1823d",
   "metadata": {},
   "source": [
    "\n",
    "## Putting it Together — Add Context + @‑Mentions\n",
    "\n",
    "- Open Chat → click **Add Context…** → add `this file` and the **Problems** panel.  \n",
    "- Prompt:  \n",
    "  > `@workspace Given the Problems listed and this file, propose a minimal patch to fix the errors and improve docstrings. Explain each change.`\n",
    "\n",
    "- Or for notebooks:  \n",
    "  > `@notebook Summarize the current notebook in 5 bullet points and create a new cell that packages the top two analyses into a function.`\n"
   ]
  },
  {
   "cell_type": "markdown",
   "id": "f9c80420",
   "metadata": {},
   "source": [
    "\n",
    "## Troubleshooting Tips\n",
    "\n",
    "- **No suggestions appear** → Ensure Copilot extension is installed and enabled; sign in to GitHub; check subscription status.  \n",
    "- **Wrong language** → Verify the file type (e.g., save as `.py`) and the correct interpreter is selected in VS Code.  \n",
    "- **Keybindings** → Search *Keyboard Shortcuts* for “Copilot”, “Inline Chat”, “Chat: Focus”, and customize.  \n",
    "- **Enterprise networks** → Check proxy settings or firewall; Copilot may need outbound access.\n"
   ]
  }
 ],
 "metadata": {
  "language_info": {
   "name": "python"
  }
 },
 "nbformat": 4,
 "nbformat_minor": 5
}
