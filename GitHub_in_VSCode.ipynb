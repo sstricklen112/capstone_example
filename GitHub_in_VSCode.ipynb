{
 "cells": [
  {
   "cell_type": "markdown",
   "id": "43e74330",
   "metadata": {},
   "source": [
    "\n",
    "# Git + GitHub in VS Code\n",
    "\n",
    "**Goal:** Learn how to use **Git** and **GitHub** right inside **Visual Studio Code**, using simple Python examples.  \n",
    "You'll practice: initializing a repo, staging & committing, writing a `.gitignore`, creating branches, merging, pushing to GitHub, and pulling updates.\n",
    "\n",
    "> No terminal required — we'll focus on the **VS Code GUI**, but show optional commands too.\n"
   ]
  },
  {
   "cell_type": "markdown",
   "id": "d29332be",
   "metadata": {},
   "source": [
    "\n",
    "## Prerequisites\n",
    "- **VS Code** installed (with the **Git** feature; VS Code will prompt you to install Git if missing)\n",
    "- **GitHub account**, and VS Code **signed into GitHub** (Account icon → Sign In → GitHub)\n",
    "- **Python** installed, and the VS Code **Python** + **Jupyter** extensions\n"
   ]
  },
  {
   "cell_type": "markdown",
   "id": "6f3ed618",
   "metadata": {},
   "source": [
    "\n",
    "## Quick Git Glossary\n",
    "- **Repository (repo):** A project folder tracked by Git (history of changes).\n",
    "- **Commit:** A snapshot of changes with a message (e.g., “Add factorial function”).\n",
    "- **Branch:** A line of development (like a copy) for safe changes (`main`, `feature/demo`).\n",
    "- **Merge:** Combine one branch's changes into another.\n",
    "- **Remote:** A repo hosted online (e.g., **GitHub**).\n",
    "- **Push / Pull:** Send your local commits to GitHub / bring down commits from GitHub.\n"
   ]
  },
  {
   "cell_type": "markdown",
   "id": "4315fb84",
   "metadata": {},
   "source": [
    "\n",
    "## 1) Create a tiny Python project (in this notebook)\n",
    "\n",
    "Run the next cells to generate a **sample project** in a folder called `vscode-git-demo`.  \n",
    "You can then open that folder in **VS Code** and follow the Git steps.\n"
   ]
  },
  {
   "cell_type": "code",
   "execution_count": 2,
   "id": "a964aec8",
   "metadata": {},
   "outputs": [
    {
     "data": {
      "text/plain": [
       "WindowsPath('C:/vscode-git-demo')"
      ]
     },
     "execution_count": 2,
     "metadata": {},
     "output_type": "execute_result"
    }
   ],
   "source": [
    "\n",
    "# Create a small project structure with beginner-friendly files\n",
    "from pathlib import Path\n",
    "\n",
    "#root = Path.cwd() / \"vscode-git-demo\"\n",
    "root = Path(\"C:/vscode-git-demo\")\n",
    "\n",
    "# Create directories\n",
    "Path(root / \"src\").mkdir(parents=True, exist_ok=True)\n",
    "Path(root / \"data\").mkdir(parents=True, exist_ok=True)\n",
    "Path(root / \"tests\").mkdir(parents=True, exist_ok=True)\n",
    "\n",
    "# README\n",
    "readme = (root / \"README.md\")\n",
    "readme.write_text(\n",
    "    \"# VS Code Git Demo\\n\\n\"\n",
    "    \"This is a tiny project for learning Git + GitHub in VS Code.\\n\\n\"\n",
    "    \"## How to run\\n\"\n",
    "    \"1. Open this folder in VS Code.\\n\"\n",
    "    \"2. Open `src/app.py` and run it with the Python extension.\\n\"\n",
    "    \"3. Try making changes and committing them with the Source Control panel.\\n\"\n",
    ")\n",
    "\n",
    "# .gitignore\n",
    "gitignore = (root / \".gitignore\")\n",
    "gitignore.write_text(\n",
    "    \"__pycache__/\\n\"\n",
    "    \"*.py[cod]\\n\"\n",
    "    \".ipynb_checkpoints/\\n\"\n",
    "    \".vscode/\\n\"\n",
    "    \".env/\\n\"\n",
    "    \".venv/\\n\"\n",
    "    \"env/\\n\"\n",
    "    \"venv/\\n\"\n",
    "    \".DS_Store\\n\"\n",
    "    \"Thumbs.db\\n\"\n",
    ")\n",
    "\n",
    "# Simple Python app\n",
    "app = (root / \"src\" / \"app.py\")\n",
    "app.write_text(\n",
    "    \"def greet(name: str) -> str:\\n\"\n",
    "    \"    \\\"\\\"\\\"Return a friendly greeting.\\\"\\\"\\\"\\n\"\n",
    "    \"    return f\\\"Hello, {name}!\\\"\\n\\n\"\n",
    "    \"if __name__ == \\\"__main__\\\":\\n\"\n",
    "    \"    print(greet(\\\"World\\\"))\\n\"\n",
    ")\n",
    "\n",
    "# A data file\n",
    "data_file = (root / \"data\" / \"names.txt\")\n",
    "data_file.write_text(\"Alice\\nBob\\nCarol\\n\")\n",
    "\n",
    "# A tiny test\n",
    "test_file = (root / \"tests\" / \"test_app.py\")\n",
    "test_file.write_text(\n",
    "    \"from src.app import greet\\n\\n\"\n",
    "    \"def test_greet():\\n\"\n",
    "    \"    assert greet('Tester') == 'Hello, Tester!'\\n\"\n",
    ")\n",
    "\n",
    "root\n"
   ]
  },
  {
   "cell_type": "markdown",
   "id": "347caf8e",
   "metadata": {},
   "source": [
    "\n",
    "### Open this project in VS Code\n",
    "1. In VS Code, go to **File → Open Folder…** and select the newly created `vscode-git-demo` folder.  \n",
    "2. Open the **Source Control** view (left toolbar icon or `Ctrl+Shift+G`).  \n",
    "3. VS Code should prompt **“Initialize Repository”** — click it.\n"
   ]
  },
  {
   "cell_type": "markdown",
   "id": "4f4c7f4b",
   "metadata": {},
   "source": [
    "\n",
    "## 2) Initialize a Git repository (GUI steps)\n",
    "- Open **Source Control** → Click **Initialize Repository** (if not already initialized).\n",
    "- You’ll see your files under **Changes**.\n",
    "- Add a **commit message** (e.g., `Initial commit: scaffold demo project`).  \n",
    "- Click **Commit** (✓).\n",
    "\n",
    "> Optional (terminal fallback):  \n",
    "> ```bash\n",
    "> git init\n",
    "> git add .\n",
    "> git commit -m \"Initial commit: scaffold demo project\"\n",
    "> ```\n"
   ]
  },
  {
   "cell_type": "markdown",
   "id": "3f1f84a1",
   "metadata": {},
   "source": [
    "\n",
    "## 3) Publish to GitHub (create remote)\n",
    "- In **Source Control**, click **Publish Branch**.  \n",
    "- Choose your GitHub account and **Public** (easiest for students) or **Private**.  \n",
    "- Name the repo (e.g., `vscode-git-demo`) → **Publish**.\n",
    "\n",
    "> Optional (terminal fallback):  \n",
    "> ```bash\n",
    "> git remote add origin https://github.com/<YOU>/vscode-git-demo.git\n",
    "> git branch -M main\n",
    "> git push -u origin main\n",
    "> ```\n"
   ]
  },
  {
   "cell_type": "markdown",
   "id": "0f95d9d8",
   "metadata": {},
   "source": [
    "\n",
    "## 4) Make your first change & commit\n",
    "1. Open `src/app.py` → change the greeting to include an emoji, e.g., `return f\"Hello, {name}! 👋\"`  \n",
    "2. Go to **Source Control** → the change appears under **Changes**.  \n",
    "3. Click the **+** to stage it (or **Stage All**).  \n",
    "4. Write a message: `Add emoji to greeting` → **Commit**.  \n",
    "5. Click **Sync Changes** (⇅) to push to GitHub.\n"
   ]
  },
  {
   "cell_type": "markdown",
   "id": "32d3a670",
   "metadata": {},
   "source": [
    "\n",
    "## 5) Create a branch (for safe experiments)\n",
    "- In the **Status Bar** (bottom-left), click on the branch name (likely `main`).  \n",
    "- Choose **Create new branch** → name it `feature/read-names`.\n",
    "\n",
    "**Task:** Update the app to read names from `data/names.txt` and print greetings for each.\n"
   ]
  },
  {
   "cell_type": "code",
   "execution_count": null,
   "id": "708a187d",
   "metadata": {},
   "outputs": [],
   "source": [
    "\n",
    "# Suggested code to try (paste into src/app.py on your feature branch)\n",
    "from pathlib import Path\n",
    "\n",
    "def greet(name: str) -> str:\n",
    "    \"\"\"Return a friendly greeting.\"\"\"\n",
    "    return f\"Hello, {name}! 👋\"\n",
    "\n",
    "def greet_file(path: str) -> None:\n",
    "    p = Path(path)\n",
    "    if not p.exists():\n",
    "        print(f\"File not found: {path}\")\n",
    "        return\n",
    "    for line in p.read_text().splitlines():\n",
    "        print(greet(line.strip()))\n",
    "\n",
    "if __name__ == \"__main__\":\n",
    "    greet_file(\"data/names.txt\")\n"
   ]
  },
  {
   "cell_type": "markdown",
   "id": "a33dfdfa",
   "metadata": {},
   "source": [
    "\n",
    "### Commit your branch changes\n",
    "- **Source Control** → stage changes → commit (e.g., `Add greet_file to read names and greet`).\n",
    "- Push the branch (VS Code prompts after commit).\n",
    "\n",
    "### Merge your branch into `main`\n",
    "1. Switch back to `main` (Status Bar → branch name).  \n",
    "2. **Source Control** menu → **Branch** → **Merge Branch…** → select `feature/read-names`.  \n",
    "3. Resolve any conflicts (VS Code shows a 3‑pane diff: **Accept Current/Incoming/Both**).  \n",
    "4. Commit the merge, then push (`Sync Changes`).\n",
    "\n",
    "> Tip: For demos, create a deliberate conflict: edit the same line of `greet` in both `main` and your branch, then merge.\n"
   ]
  },
  {
   "cell_type": "markdown",
   "id": "85233331",
   "metadata": {},
   "source": [
    "\n",
    "## 6) Pull changes from GitHub\n",
    "- If someone (or you from the web) edits the repo on GitHub, click **Sync Changes** (⇅) in VS Code to **Pull**.  \n",
    "- Review the **Timeline** view on a file to see its history and diffs.\n"
   ]
  },
  {
   "cell_type": "markdown",
   "id": "d494d644",
   "metadata": {},
   "source": [
    "\n",
    "## 7) Editing on GitHub.com (quick fixes)\n",
    "- Open your repo on GitHub → open `README.md` → click the **pencil** to edit.  \n",
    "- Add a change (e.g., steps to run), commit directly to `main`.  \n",
    "- Back in VS Code, click **Sync Changes** to pull the update.\n"
   ]
  },
  {
   "cell_type": "markdown",
   "id": "8e8e1c4a",
   "metadata": {},
   "source": [
    "\n",
    "## 8) (Optional) Run a simple test\n",
    "You can run tests in the terminal or VS Code Test Explorer. For a quick demo:\n"
   ]
  },
  {
   "cell_type": "code",
   "execution_count": null,
   "id": "6ec0ed9f",
   "metadata": {},
   "outputs": [],
   "source": [
    "\n",
    "# Quick-and-dirty test runner (not pytest, just demonstration)\n",
    "from src.app import greet\n",
    "assert greet(\"Tester\").startswith(\"Hello,\")\n",
    "print(\"Smoke test passed.\")\n"
   ]
  },
  {
   "cell_type": "markdown",
   "id": "6b46f620",
   "metadata": {},
   "source": [
    "\n",
    "## 9) `.gitignore` (keep your repo tidy)\n",
    "We included a `.gitignore` that ignores caches, virtual environments, and editor files.  \n",
    "To add big data files, prefer linking or using GitHub Releases — don't commit huge files into the repo.\n"
   ]
  },
  {
   "cell_type": "markdown",
   "id": "4b475ab5",
   "metadata": {},
   "source": [
    "\n",
    "## 10) (Optional) Set your Git identity\n",
    "If VS Code asks for your identity, set it once (globally):\n",
    "```bash\n",
    "git config --global user.name \"Your Name\"\n",
    "git config --global user.email you@example.com\n",
    "```\n"
   ]
  },
  {
   "cell_type": "markdown",
   "id": "ffbafabd",
   "metadata": {},
   "source": [
    "\n",
    "## VS Code Git GUI Cheatsheet\n",
    "- **Source Control view (`Ctrl+Shift+G`)**: stage, commit, view diffs\n",
    "- **Status Bar (bottom-left)**: branch name → create/switch branches\n",
    "- **Publish Branch / Sync Changes (⇅)**: push/pull with GitHub\n",
    "- **Timeline view**: right-click a file → **Open Timeline** to see history\n",
    "- **Open Changes**: click a file in Source Control to view the diff\n",
    "- **… menu** in Source Control: stash, merge, rebase, and more (for later)\n"
   ]
  },
  {
   "cell_type": "markdown",
   "id": "08a8e338",
   "metadata": {},
   "source": [
    "\n",
    "## Practice Checklist (10–15 minutes)\n",
    "1. Initialize repo; make your **initial commit**.  \n",
    "2. **Publish** to GitHub.  \n",
    "3. Edit `src/app.py` and **commit** a small change.  \n",
    "4. Create a **branch** and add `greet_file`. Commit & **push**.  \n",
    "5. Merge your branch back into `main` (resolve a conflict if you want).  \n",
    "6. Edit `README.md` on GitHub.com; **pull** the change in VS Code.  \n",
    "7. View the **Timeline** for `src/app.py` and walk through diffs.\n"
   ]
  }
 ],
 "metadata": {
  "kernelspec": {
   "display_name": "python-training",
   "language": "python",
   "name": "python3"
  },
  "language_info": {
   "codemirror_mode": {
    "name": "ipython",
    "version": 3
   },
   "file_extension": ".py",
   "mimetype": "text/x-python",
   "name": "python",
   "nbconvert_exporter": "python",
   "pygments_lexer": "ipython3",
   "version": "3.13.5"
  }
 },
 "nbformat": 4,
 "nbformat_minor": 5
}
