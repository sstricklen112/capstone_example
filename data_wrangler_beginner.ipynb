{
 "cells": [
  {
   "cell_type": "markdown",
   "id": "93c4e8d0",
   "metadata": {},
   "source": [
    "# Data Wrangler in VS Code — Beginner Notebook\n",
    "\n",
    "**Audience:** New Python/VS Code users (analysts, learners)  \n",
    "**Goal:** Learn how to open a DataFrame in **Data Wrangler**, apply common transformations, and export the generated **pandas** code back into your notebook.  \n",
    "**Duration:** ~45–60 minutes  \n",
    "**Updated:** 2025-09-16\n",
    "\n",
    "---\n",
    "\n",
    "## What you'll learn\n",
    "- Installing and enabling the **Data Wrangler** extension in VS Code\n",
    "- Opening Data Wrangler from a DataFrame output\n",
    "- Performing common cleanups (rename columns, data types, fill NAs, deduplicate, split/merge, filter, sort, group, pivot)\n",
    "- Previewing and **exporting the generated pandas code** back to the notebook\n",
    "- Tips, limitations, and troubleshooting\n",
    "\n",
    "> **Why Data Wrangler?** It lets you wrangle data using a point‑and‑click UI and then **captures the equivalent pandas code** you can reuse—perfect for beginners.\n"
   ]
  },
  {
   "cell_type": "markdown",
   "id": "d96168f8",
   "metadata": {},
   "source": [
    "## Prerequisites & Install\n",
    "\n",
    "1. **VS Code** with these extensions:\n",
    "   - **Python** (ms-python.python)\n",
    "   - **Jupyter** (ms-toolsai.jupyter)\n",
    "   - **Data Wrangler** (ms-toolsai.datawrangler)\n",
    "\n",
    "2. A working **Python** environment with **pandas** installed.\n",
    "\n",
    "### Install Data Wrangler\n",
    "- Open VS Code → **Extensions** panel → search **“Data Wrangler”** → Install.\n",
    "- Make sure your notebook is using a **Python kernel** (top-right of the notebook).\n",
    "\n",
    "> If you don’t see the Data Wrangler button later, ensure the extension is enabled and you’ve *displayed* a pandas DataFrame in an output cell.\n"
   ]
  },
  {
   "cell_type": "markdown",
   "id": "21800b24",
   "metadata": {},
   "source": [
    "## Load a sample dataset (provided)\n",
    "\n",
    "We'll start with a small CSV so you can practice. This notebook already saved one for you at:\n",
    "\n",
    "`/mnt/data/hr_sales.csv`\n"
   ]
  },
  {
   "cell_type": "code",
   "execution_count": null,
   "id": "4b5c4512",
   "metadata": {},
   "outputs": [],
   "source": [
    "import pandas as pd\n",
    "\n",
    "csv_path = r\"/mnt/data/hr_sales.csv\"  # Change this to your own path if you downloaded the CSV\n",
    "df = pd.read_csv(csv_path, parse_dates=[\"Hire Date\"])\n",
    "df.head()  # ⬅️ Displaying a DataFrame triggers the Data Wrangler button in VS Code\n"
   ]
  },
  {
   "cell_type": "markdown",
   "id": "94c18ff7",
   "metadata": {},
   "source": [
    "## Open Data Wrangler\n",
    "\n",
    "In VS Code, when a DataFrame is displayed (like the output above), you should see a small **Data Wrangler** button above the output (or a “**Data Wrangler**” item in the hover toolbar).\n",
    "\n",
    "- Click **Data Wrangler** → it opens in a side panel with a data grid and transformation tools.\n",
    "- If you don’t see the button:\n",
    "  - Ensure the **Data Wrangler** extension is installed & enabled\n",
    "  - Ensure this is a **Jupyter Notebook** (not just a .py file)\n",
    "  - Make sure **a DataFrame output** (not just a variable) is visible in the cell output\n"
   ]
  },
  {
   "cell_type": "markdown",
   "id": "e8057991",
   "metadata": {},
   "source": [
    "## Common Tasks to Try in Data Wrangler\n",
    "\n",
    "Perform these actions using the **toolbar** and **column menus**. After each step, look at the **Code** pane/Data Wrangler’s preview to see the pandas code it will generate.\n",
    "\n",
    "1. **Rename columns**\n",
    "   - Example: rename `Employee ID` → `employee_id`, `Full Name` → `full_name`\n",
    "2. **Change data types**\n",
    "   - Ensure `Hire Date` is datetime; `Units Sold` is int; `Discount %` is float\n",
    "3. **Create a computed column**\n",
    "   - `revenue = Units Sold * Unit Price * (1 - Discount %)`\n",
    "4. **Split a column**\n",
    "   - Split `Full Name` into `first_name`, `last_name`\n",
    "5. **Fill or drop missing values**\n",
    "   - (Introduce a missing value first if needed.)\n",
    "6. **Remove duplicates**\n",
    "   - E.g., by `Employee ID`\n",
    "7. **Filter & sort**\n",
    "   - Filter `Department == \"Sales\"` and sort by `revenue` descending\n",
    "8. **Group & aggregate**\n",
    "   - Group by `Region` or `Quarter`, aggregate `revenue` (sum, mean)\n",
    "9. **Pivot**\n",
    "   - Pivot `Region` (columns) by `Quarter` (index), values = `revenue`\n"
   ]
  },
  {
   "cell_type": "markdown",
   "id": "0f6131d7",
   "metadata": {},
   "source": [
    "## Export the Generated Code Back to the Notebook\n",
    "\n",
    "When you’re happy with your steps in Data Wrangler:\n",
    "\n",
    "- Click **Apply** (or **Export Code**) inside Data Wrangler.\n",
    "- VS Code inserts a **new code cell** below your selection with the equivalent **pandas** code.\n",
    "- Run that cell to reproduce the same transformations in Python.\n",
    "\n",
    "> Tip: Keep the generated cell as a clean, auditable “recipe” of your wrangling steps.\n"
   ]
  },
  {
   "cell_type": "markdown",
   "id": "32f02b56",
   "metadata": {},
   "source": [
    "## (Optional) Equivalent Steps in Pure pandas\n",
    "\n",
    "Below is a reference implementation of a few common transformations you might export from Data Wrangler. You don’t need to run this if you’re practicing inside Data Wrangler—but it’s useful for learning the pandas idioms.\n"
   ]
  },
  {
   "cell_type": "code",
   "execution_count": null,
   "id": "60e1748f",
   "metadata": {},
   "outputs": [],
   "source": [
    "import pandas as pd\n",
    "\n",
    "df2 = df.copy()\n",
    "\n",
    "# 1) Rename columns\n",
    "df2 = df2.rename(columns={\n",
    "    \"Employee ID\": \"employee_id\",\n",
    "    \"Full Name\": \"full_name\",\n",
    "    \"Units Sold\": \"units_sold\",\n",
    "    \"Unit Price\": \"unit_price\",\n",
    "    \"Discount %\": \"discount\"\n",
    "})\n",
    "\n",
    "# 2) Types\n",
    "df2[\"hire_date\"] = pd.to_datetime(df2[\"Hire Date\"])\n",
    "df2[\"units_sold\"] = df2[\"units_sold\"].astype(\"int64\")\n",
    "df2[\"discount\"] = df2[\"discount\"].astype(float)\n",
    "\n",
    "# 3) Computed column\n",
    "df2[\"revenue\"] = df2[\"units_sold\"] * df2[\"unit_price\"] * (1 - df2[\"discount\"])\n",
    "\n",
    "# 4) Split full name\n",
    "name_split = df2[\"full_name\"].str.split(r\"\\s+\", n=1, expand=True)\n",
    "df2[\"first_name\"] = name_split[0]\n",
    "df2[\"last_name\"] = name_split[1]\n",
    "\n",
    "# 5) Filter & sort\n",
    "top_sales = (\n",
    "    df2.query(\"Department == 'Sales'\")\n",
    "       .sort_values(\"revenue\", ascending=False)\n",
    ")\n",
    "top_sales.head()\n"
   ]
  },
  {
   "cell_type": "markdown",
   "id": "1b6874b4",
   "metadata": {},
   "source": [
    "## Troubleshooting\n",
    "\n",
    "- **No Data Wrangler button appears**\n",
    "  - Ensure you **displayed a DataFrame** (e.g., `df.head()`), not just printed text\n",
    "  - Verify the **Data Wrangler** extension is installed and enabled\n",
    "  - Confirm your **kernel is Python** and the **Jupyter** extension is active\n",
    "- **“Apply/Export Code” does nothing**\n",
    "  - Make sure the notebook is **trusted** and not in a read-only location\n",
    "- **Large DataFrames feel slow**\n",
    "  - Work with a **sample**: `df.sample(5000, random_state=0)` first, then apply code to full data\n",
    "- **Button shows but opens blank**\n",
    "  - Re-run the cell that outputs the DataFrame; ensure the variable still exists in memory\n"
   ]
  },
  {
   "cell_type": "markdown",
   "id": "89b22878",
   "metadata": {},
   "source": [
    "## Mini‑Exercises (Practice)\n",
    "\n",
    "1. Create `unit_cost = unit_price * (1 - discount)` and compare to `revenue / units_sold`.\n",
    "2. Replace any `EU` region rows to `Europe` (standardize categories).\n",
    "3. Deduplicate on `employee_id` keeping the **latest** `Hire Date`.\n",
    "4. Build a pivot table of `revenue` by `Quarter` (rows) and `Region` (columns).\n",
    "5. Export your steps back to the notebook and run the generated cell.\n"
   ]
  },
  {
   "cell_type": "markdown",
   "id": "44ba8256",
   "metadata": {},
   "source": [
    "## Wrap‑Up\n",
    "\n",
    "- Data Wrangler helps you learn and **capture clean pandas code** from point‑and‑click steps.\n",
    "- Use it to prototype quickly, then refine the exported code for production scripts.\n",
    "\n",
    "**Next:** Explore advanced transforms (joins/merges, text cleanup with regex, date parsing) and compare the generated code to the official pandas docs to deepen your understanding.\n"
   ]
  }
 ],
 "metadata": {},
 "nbformat": 4,
 "nbformat_minor": 5
}
